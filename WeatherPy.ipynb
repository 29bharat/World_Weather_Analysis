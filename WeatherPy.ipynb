{
 "cells": [
  {
   "cell_type": "code",
   "execution_count": 8,
   "metadata": {},
   "outputs": [],
   "source": [
    "# Import the random module.\n",
    "import random"
   ]
  },
  {
   "cell_type": "code",
   "execution_count": 9,
   "metadata": {},
   "outputs": [
    {
     "data": {
      "text/plain": [
       "0.4813643576587464"
      ]
     },
     "execution_count": 9,
     "metadata": {},
     "output_type": "execute_result"
    }
   ],
   "source": [
    "random.random()"
   ]
  },
  {
   "cell_type": "code",
   "execution_count": 10,
   "metadata": {},
   "outputs": [
    {
     "data": {
      "text/plain": [
       "46"
      ]
     },
     "execution_count": 10,
     "metadata": {},
     "output_type": "execute_result"
    }
   ],
   "source": [
    "random.randint (-90, 90)"
   ]
  },
  {
   "cell_type": "code",
   "execution_count": 11,
   "metadata": {},
   "outputs": [
    {
     "data": {
      "text/plain": [
       "0.7104276332865156"
      ]
     },
     "execution_count": 11,
     "metadata": {},
     "output_type": "execute_result"
    }
   ],
   "source": [
    "random.random() "
   ]
  },
  {
   "cell_type": "code",
   "execution_count": 12,
   "metadata": {},
   "outputs": [],
   "source": [
    "x = 1\n",
    "latitudes = []\n",
    "while x < 11:\n",
    "    random_lat = random.randint(-90, 90) + random.random()\n",
    "    latitudes.append(random_lat)\n",
    "    x += 1"
   ]
  },
  {
   "cell_type": "code",
   "execution_count": 13,
   "metadata": {},
   "outputs": [
    {
     "data": {
      "text/plain": [
       "[1.134874150710056,\n",
       " -70.55498676811733,\n",
       " 87.48071895722869,\n",
       " -63.44972688635838,\n",
       " 22.374503805342954,\n",
       " -8.256822867166699,\n",
       " -20.74302231504475,\n",
       " 1.139349889510893,\n",
       " -83.54303297384912,\n",
       " -60.89579032186462]"
      ]
     },
     "execution_count": 13,
     "metadata": {},
     "output_type": "execute_result"
    }
   ],
   "source": [
    "latitudes"
   ]
  },
  {
   "cell_type": "code",
   "execution_count": 14,
   "metadata": {},
   "outputs": [
    {
     "data": {
      "text/plain": [
       "-73"
      ]
     },
     "execution_count": 14,
     "metadata": {},
     "output_type": "execute_result"
    }
   ],
   "source": [
    "random.randrange(-90, 90, step=1)"
   ]
  },
  {
   "cell_type": "code",
   "execution_count": 15,
   "metadata": {},
   "outputs": [
    {
     "data": {
      "text/plain": [
       "-48"
      ]
     },
     "execution_count": 15,
     "metadata": {},
     "output_type": "execute_result"
    }
   ],
   "source": [
    "random.randrange(-90, 90, step=3)"
   ]
  },
  {
   "cell_type": "code",
   "execution_count": 16,
   "metadata": {},
   "outputs": [
    {
     "data": {
      "text/plain": [
       "-61.87441410019882"
      ]
     },
     "execution_count": 16,
     "metadata": {},
     "output_type": "execute_result"
    }
   ],
   "source": [
    "random.uniform(-90, 90)"
   ]
  },
  {
   "cell_type": "code",
   "execution_count": 17,
   "metadata": {},
   "outputs": [
    {
     "data": {
      "text/plain": [
       "-6.2866295716056335"
      ]
     },
     "execution_count": 17,
     "metadata": {},
     "output_type": "execute_result"
    }
   ],
   "source": [
    "random.uniform(-9, 9)"
   ]
  },
  {
   "cell_type": "code",
   "execution_count": 18,
   "metadata": {},
   "outputs": [],
   "source": [
    "# Import the NumPy module.\n",
    "import numpy as np"
   ]
  },
  {
   "cell_type": "code",
   "execution_count": 19,
   "metadata": {},
   "outputs": [
    {
     "data": {
      "text/plain": [
       "-42.12230595571649"
      ]
     },
     "execution_count": 19,
     "metadata": {},
     "output_type": "execute_result"
    }
   ],
   "source": [
    "np.random.uniform(-90.000, 90.000)"
   ]
  },
  {
   "cell_type": "code",
   "execution_count": 20,
   "metadata": {},
   "outputs": [
    {
     "data": {
      "text/plain": [
       "array([-73.30585748,   9.82009684, -34.14899622, ...,  32.4395544 ,\n",
       "       -31.00373313,  58.88432625])"
      ]
     },
     "execution_count": 20,
     "metadata": {},
     "output_type": "execute_result"
    }
   ],
   "source": [
    "np.random.uniform(-90.000, 90.000, size=1500)"
   ]
  },
  {
   "cell_type": "code",
   "execution_count": 21,
   "metadata": {},
   "outputs": [],
   "source": [
    "# Import timeit.\n",
    "import timeit"
   ]
  },
  {
   "cell_type": "code",
   "execution_count": 22,
   "metadata": {},
   "outputs": [
    {
     "name": "stdout",
     "output_type": "stream",
     "text": [
      "20.2 µs ± 1.07 µs per loop (mean ± std. dev. of 7 runs, 10000 loops each)\n"
     ]
    }
   ],
   "source": [
    "%timeit np.random.uniform(-90.000, 90.000, size=1500)"
   ]
  },
  {
   "cell_type": "code",
   "execution_count": 23,
   "metadata": {},
   "outputs": [
    {
     "name": "stdout",
     "output_type": "stream",
     "text": [
      "2.42 ms ± 107 µs per loop (mean ± std. dev. of 7 runs, 100 loops each)\n"
     ]
    }
   ],
   "source": [
    "def latitudes(size):\n",
    "    latitudes = []\n",
    "    x = 0\n",
    "    while x < (size):\n",
    "        random_lat = random.randint(-90, 90) + random.random()\n",
    "        latitudes.append(random_lat)\n",
    "        x += 1\n",
    "    return latitudes\n",
    "# Call the function with 1500. \n",
    "%timeit latitudes(1500)"
   ]
  },
  {
   "cell_type": "code",
   "execution_count": 24,
   "metadata": {},
   "outputs": [
    {
     "name": "stdout",
     "output_type": "stream",
     "text": [
      "2.36 ms ± 108 µs per loop (mean ± std. dev. of 7 runs, 100 loops each)\n"
     ]
    }
   ],
   "source": [
    "def latitudes(size):\n",
    "    latitudes = []\n",
    "    for x in range(size) :\n",
    "        random_lat = random.randint(-90, 90) + random.random()\n",
    "        latitudes.append(random_lat)\n",
    "    return latitudes\n",
    "# Call the function with 1500. \n",
    "%timeit latitudes(1500)"
   ]
  },
  {
   "cell_type": "code",
   "execution_count": 25,
   "metadata": {},
   "outputs": [],
   "source": [
    "# Import the dependencies.\n",
    "import pandas as pd\n",
    "import matplotlib.pyplot as plt\n",
    "import numpy as np"
   ]
  },
  {
   "cell_type": "code",
   "execution_count": 26,
   "metadata": {},
   "outputs": [
    {
     "data": {
      "text/plain": [
       "<zip at 0x55a15c8>"
      ]
     },
     "execution_count": 26,
     "metadata": {},
     "output_type": "execute_result"
    }
   ],
   "source": [
    "# Create a set of random latitude and longitude combinations.\n",
    "lats = np.random.uniform(low=-90.000, high=90.000, size=1500)\n",
    "lngs = np.random.uniform(low=-180.000, high=180.000, size=1500)\n",
    "lat_lngs = zip(lats, lngs)\n",
    "lat_lngs"
   ]
  },
  {
   "cell_type": "code",
   "execution_count": 27,
   "metadata": {},
   "outputs": [],
   "source": [
    "# Add the latitudes and longitudes to a list.\n",
    "coordinates = list(lat_lngs)"
   ]
  },
  {
   "cell_type": "code",
   "execution_count": 28,
   "metadata": {},
   "outputs": [],
   "source": [
    "# Use the citipy module to determine city based on latitude and longitude.\n",
    "from citipy import citipy"
   ]
  },
  {
   "cell_type": "code",
   "execution_count": 29,
   "metadata": {},
   "outputs": [
    {
     "data": {
      "text/plain": [
       "616"
      ]
     },
     "execution_count": 29,
     "metadata": {},
     "output_type": "execute_result"
    }
   ],
   "source": [
    "# Create a list for holding the cities.\n",
    "cities = []\n",
    "# Identify the nearest city for each latitude and longitude combination.\n",
    "for coordinate in coordinates:\n",
    "    city = citipy.nearest_city(coordinate[0], coordinate[1]).city_name\n",
    "    \n",
    "    # If the city is unique, then we will add it to the cities list.\n",
    "    if city not in cities:\n",
    "        cities.append(city)\n",
    "# Print the city count to confirm sufficient count.\n",
    "len(cities)"
   ]
  },
  {
   "cell_type": "code",
   "execution_count": 30,
   "metadata": {},
   "outputs": [],
   "source": [
    "# Import the requests library.\n",
    "import requests\n",
    "\n",
    "# Import the API key.\n",
    "from config import weather_api_key"
   ]
  },
  {
   "cell_type": "code",
   "execution_count": 31,
   "metadata": {},
   "outputs": [
    {
     "name": "stdout",
     "output_type": "stream",
     "text": [
      "http://api.openweathermap.org/data/2.5/weather?units=Imperial&APPID=a64c796d97ed68b62f3c37ff8fa4295d\n"
     ]
    }
   ],
   "source": [
    "# Starting URL for Weather Map API Call.\n",
    "url = \"http://api.openweathermap.org/data/2.5/weather?units=Imperial&APPID=\" + weather_api_key\n",
    "print(url)"
   ]
  },
  {
   "cell_type": "code",
   "execution_count": 32,
   "metadata": {},
   "outputs": [],
   "source": [
    "# Import the datetime module from the datetime library.\n",
    "from datetime import datetime"
   ]
  },
  {
   "cell_type": "code",
   "execution_count": 33,
   "metadata": {},
   "outputs": [
    {
     "name": "stdout",
     "output_type": "stream",
     "text": [
      "Beginning Data Retrieval     \n",
      "-----------------------------\n"
     ]
    }
   ],
   "source": [
    "# Create an empty list to hold the weather data.\n",
    "city_data = []\n",
    "# Print the beginning of the logging.\n",
    "print(\"Beginning Data Retrieval     \")\n",
    "print(\"-----------------------------\")\n",
    "\n",
    "# Create counters.\n",
    "record_count = 1\n",
    "set_count = 1\n",
    "\n",
    "# Loop through all the cities in our list.\n",
    "for i in range(len(cities)):\n",
    "\n",
    "    # Group cities in sets of 50 for logging purposes.\n",
    "    if (i % 50 == 0 and i >= 50):\n",
    "        set_count += 1\n",
    "        record_count = 1\n",
    "    # Create endpoint URL with each city.\n",
    "    city_url = url + \"&q=\" + \"i\""
   ]
  },
  {
   "cell_type": "code",
   "execution_count": 34,
   "metadata": {},
   "outputs": [
    {
     "name": "stdout",
     "output_type": "stream",
     "text": [
      "Processing Record 1 of Set 13 | moerai\n",
      "Processing Record 2 of Set 13 | mataura\n",
      "Processing Record 3 of Set 13 | itarema\n",
      "Processing Record 4 of Set 13 | nanortalik\n",
      "Processing Record 5 of Set 13 | chuy\n",
      "Processing Record 6 of Set 13 | barrow\n",
      "Processing Record 7 of Set 13 | guerrero\n",
      "Processing Record 8 of Set 13 | kapaa\n",
      "Processing Record 9 of Set 13 | hithadhoo\n",
      "Processing Record 10 of Set 13 | valley city\n",
      "Processing Record 11 of Set 13 | beyneu\n",
      "Processing Record 12 of Set 13 | bambous virieux\n",
      "Processing Record 13 of Set 13 | amderma\n",
      "City not found. Skipping...\n",
      "Processing Record 14 of Set 13 | hasaki\n",
      "Processing Record 15 of Set 13 | goderich\n",
      "Processing Record 16 of Set 13 | airai\n",
      "Processing Record 17 of Set 13 | srednekolymsk\n",
      "Processing Record 18 of Set 13 | bluff\n",
      "Processing Record 19 of Set 13 | coahuayana\n",
      "Processing Record 20 of Set 13 | bethel\n",
      "Processing Record 21 of Set 13 | guarapari\n",
      "Processing Record 22 of Set 13 | samusu\n",
      "City not found. Skipping...\n",
      "Processing Record 23 of Set 13 | port elizabeth\n",
      "Processing Record 24 of Set 13 | quelimane\n",
      "Processing Record 25 of Set 13 | egvekinot\n",
      "Processing Record 26 of Set 13 | punta arenas\n",
      "Processing Record 27 of Set 13 | taolanaro\n",
      "City not found. Skipping...\n",
      "Processing Record 28 of Set 13 | alice springs\n",
      "Processing Record 29 of Set 13 | ziro\n",
      "Processing Record 30 of Set 13 | ushuaia\n",
      "Processing Record 31 of Set 13 | nikolskoye\n",
      "Processing Record 32 of Set 13 | lebu\n",
      "Processing Record 33 of Set 13 | trelew\n",
      "Processing Record 34 of Set 13 | comodoro rivadavia\n",
      "Processing Record 35 of Set 13 | bredasdorp\n",
      "Processing Record 36 of Set 13 | rikitea\n",
      "Processing Record 37 of Set 13 | hermanus\n",
      "Processing Record 38 of Set 13 | ibotirama\n",
      "Processing Record 39 of Set 13 | bogale\n",
      "Processing Record 40 of Set 13 | lata\n",
      "Processing Record 41 of Set 13 | busselton\n",
      "Processing Record 42 of Set 13 | dikson\n",
      "Processing Record 43 of Set 13 | geraldton\n",
      "Processing Record 44 of Set 13 | cheuskiny\n",
      "City not found. Skipping...\n",
      "Processing Record 45 of Set 13 | ust-kuyga\n",
      "Processing Record 46 of Set 13 | sao joao da barra\n",
      "Processing Record 47 of Set 13 | cape town\n",
      "Processing Record 48 of Set 13 | gizo\n",
      "Processing Record 49 of Set 13 | saint-augustin\n",
      "Processing Record 50 of Set 13 | cabo san lucas\n",
      "Processing Record 1 of Set 14 | qaanaaq\n",
      "Processing Record 2 of Set 14 | grand river south east\n",
      "City not found. Skipping...\n",
      "Processing Record 3 of Set 14 | lincoln\n",
      "Processing Record 4 of Set 14 | bengkulu\n",
      "Processing Record 5 of Set 14 | ostrovnoy\n",
      "Processing Record 6 of Set 14 | panormos\n",
      "Processing Record 7 of Set 14 | provideniya\n",
      "Processing Record 8 of Set 14 | aras\n",
      "Processing Record 9 of Set 14 | deputatskiy\n",
      "Processing Record 10 of Set 14 | bobonong\n",
      "City not found. Skipping...\n",
      "Processing Record 11 of Set 14 | aklavik\n",
      "Processing Record 12 of Set 14 | mar del plata\n",
      "Processing Record 13 of Set 14 | vaitupu\n",
      "City not found. Skipping...\n",
      "Processing Record 14 of Set 14 | puerto ayora\n",
      "Processing Record 15 of Set 14 | ribeira grande\n",
      "Processing Record 16 of Set 14 | port alfred\n",
      "Processing Record 17 of Set 14 | port-gentil\n",
      "Processing Record 18 of Set 14 | cabadiangan\n",
      "Processing Record 19 of Set 14 | krasnoselkup\n",
      "Processing Record 20 of Set 14 | jamestown\n",
      "Processing Record 21 of Set 14 | saint-philippe\n",
      "Processing Record 22 of Set 14 | orbe\n",
      "Processing Record 23 of Set 14 | redmond\n",
      "Processing Record 24 of Set 14 | tutoia\n",
      "Processing Record 25 of Set 14 | albany\n",
      "Processing Record 26 of Set 14 | hilo\n",
      "Processing Record 27 of Set 14 | gumdag\n",
      "Processing Record 28 of Set 14 | aksu\n",
      "Processing Record 29 of Set 14 | anna paulowna\n",
      "Processing Record 30 of Set 14 | swellendam\n",
      "Processing Record 31 of Set 14 | christchurch\n",
      "Processing Record 32 of Set 14 | east london\n",
      "Processing Record 33 of Set 14 | yellowknife\n",
      "Processing Record 34 of Set 14 | mount gambier\n",
      "Processing Record 35 of Set 14 | klaksvik\n",
      "Processing Record 36 of Set 14 | gijon\n",
      "Processing Record 37 of Set 14 | belushya guba\n",
      "City not found. Skipping...\n",
      "Processing Record 38 of Set 14 | atuona\n",
      "Processing Record 39 of Set 14 | saskylakh\n",
      "Processing Record 40 of Set 14 | tiksi\n",
      "Processing Record 41 of Set 14 | tuktoyaktuk\n",
      "Processing Record 42 of Set 14 | hobart\n",
      "Processing Record 43 of Set 14 | kasongo-lunda\n",
      "Processing Record 44 of Set 14 | georgetown\n",
      "Processing Record 45 of Set 14 | shenjiamen\n",
      "Processing Record 46 of Set 14 | sentyabrskiy\n",
      "City not found. Skipping...\n",
      "Processing Record 47 of Set 14 | port blair\n",
      "Processing Record 48 of Set 14 | umzimvubu\n",
      "City not found. Skipping...\n",
      "Processing Record 49 of Set 14 | beinamar\n",
      "Processing Record 50 of Set 14 | rosarito\n",
      "Processing Record 1 of Set 15 | nemuro\n",
      "Processing Record 2 of Set 15 | mbaiki\n",
      "Processing Record 3 of Set 15 | kushmurun\n",
      "Processing Record 4 of Set 15 | louisbourg\n",
      "City not found. Skipping...\n",
      "Processing Record 5 of Set 15 | sorland\n",
      "Processing Record 6 of Set 15 | asyut\n",
      "Processing Record 7 of Set 15 | vaini\n",
      "Processing Record 8 of Set 15 | winnemucca\n",
      "Processing Record 9 of Set 15 | mezen\n",
      "Processing Record 10 of Set 15 | buqayq\n",
      "City not found. Skipping...\n",
      "Processing Record 11 of Set 15 | tecoanapa\n",
      "Processing Record 12 of Set 15 | tasiilaq\n",
      "Processing Record 13 of Set 15 | butaritari\n",
      "Processing Record 14 of Set 15 | maidstone\n",
      "Processing Record 15 of Set 15 | coquimbo\n",
      "Processing Record 16 of Set 15 | liverpool\n",
      "Processing Record 17 of Set 15 | dubbo\n",
      "Processing Record 18 of Set 15 | kruisfontein\n",
      "Processing Record 19 of Set 15 | blagoyevo\n",
      "Processing Record 20 of Set 15 | xai-xai\n",
      "Processing Record 21 of Set 15 | komsomolskiy\n",
      "Processing Record 22 of Set 15 | avera\n",
      "Processing Record 23 of Set 15 | opuwo\n",
      "Processing Record 24 of Set 15 | gandia\n",
      "Processing Record 25 of Set 15 | jaca\n",
      "Processing Record 26 of Set 15 | thompson\n",
      "Processing Record 27 of Set 15 | lolua\n",
      "City not found. Skipping...\n",
      "Processing Record 28 of Set 15 | sioux lookout\n",
      "Processing Record 29 of Set 15 | victoria\n",
      "Processing Record 30 of Set 15 | akyab\n",
      "Processing Record 31 of Set 15 | new norfolk\n",
      "Processing Record 32 of Set 15 | obo\n",
      "Processing Record 33 of Set 15 | barentsburg\n",
      "City not found. Skipping...\n",
      "Processing Record 34 of Set 15 | cam pha\n",
      "City not found. Skipping...\n",
      "Processing Record 35 of Set 15 | talnakh\n",
      "Processing Record 36 of Set 15 | saldanha\n",
      "Processing Record 37 of Set 15 | bay roberts\n",
      "Processing Record 38 of Set 15 | bubaque\n",
      "Processing Record 39 of Set 15 | kamenka\n",
      "Processing Record 40 of Set 15 | carnarvon\n",
      "Processing Record 41 of Set 15 | puerto madryn\n",
      "Processing Record 42 of Set 15 | faanui\n",
      "Processing Record 43 of Set 15 | lagoa\n",
      "Processing Record 44 of Set 15 | plettenberg bay\n",
      "Processing Record 45 of Set 15 | alta floresta\n",
      "Processing Record 46 of Set 15 | pangani\n",
      "Processing Record 47 of Set 15 | ilulissat\n",
      "Processing Record 48 of Set 15 | vilhena\n",
      "Processing Record 49 of Set 15 | tura\n",
      "Processing Record 50 of Set 15 | rocha\n",
      "Processing Record 1 of Set 16 | mafinga\n",
      "Processing Record 2 of Set 16 | bambanglipuro\n",
      "Processing Record 3 of Set 16 | sarankhola\n",
      "Processing Record 4 of Set 16 | shelburne\n",
      "Processing Record 5 of Set 16 | castro\n",
      "Processing Record 6 of Set 16 | verkhoyansk\n",
      "Processing Record 7 of Set 16 | tromso\n",
      "Processing Record 8 of Set 16 | mahibadhoo\n",
      "Processing Record 9 of Set 16 | attawapiskat\n",
      "City not found. Skipping...\n",
      "Processing Record 10 of Set 16 | argostolion\n",
      "Processing Record 11 of Set 16 | austin\n",
      "Processing Record 12 of Set 16 | krasnoborsk\n",
      "Processing Record 13 of Set 16 | alotau\n",
      "City not found. Skipping...\n",
      "Processing Record 14 of Set 16 | kavaratti\n",
      "Processing Record 15 of Set 16 | san luis\n",
      "Processing Record 16 of Set 16 | guerrero negro\n",
      "Processing Record 17 of Set 16 | bilma\n",
      "Processing Record 18 of Set 16 | naze\n",
      "Processing Record 19 of Set 16 | arraial do cabo\n",
      "Processing Record 20 of Set 16 | tres arroyos\n",
      "Processing Record 21 of Set 16 | ternate\n",
      "Processing Record 22 of Set 16 | camopi\n",
      "Processing Record 23 of Set 16 | peniche\n",
      "Processing Record 24 of Set 16 | leningradskiy\n",
      "Processing Record 25 of Set 16 | emirdag\n",
      "Processing Record 26 of Set 16 | severo-kurilsk\n",
      "Processing Record 27 of Set 16 | bonavista\n",
      "Processing Record 28 of Set 16 | maarianhamina\n",
      "Processing Record 29 of Set 16 | manggar\n",
      "Processing Record 30 of Set 16 | kudahuvadhoo\n",
      "Processing Record 31 of Set 16 | ambovombe\n",
      "Processing Record 32 of Set 16 | tessalit\n"
     ]
    },
    {
     "name": "stdout",
     "output_type": "stream",
     "text": [
      "Processing Record 33 of Set 16 | khatanga\n",
      "Processing Record 34 of Set 16 | castanos\n",
      "Processing Record 35 of Set 16 | matadi\n",
      "Processing Record 36 of Set 16 | oudtshoorn\n",
      "Processing Record 37 of Set 16 | vardo\n",
      "Processing Record 38 of Set 16 | zhigansk\n",
      "Processing Record 39 of Set 16 | kisangani\n",
      "Processing Record 40 of Set 16 | seymchan\n",
      "Processing Record 41 of Set 16 | les cayes\n",
      "Processing Record 42 of Set 16 | chardara\n",
      "Processing Record 43 of Set 16 | tsihombe\n",
      "City not found. Skipping...\n",
      "Processing Record 44 of Set 16 | asayita\n",
      "City not found. Skipping...\n",
      "Processing Record 45 of Set 16 | voh\n",
      "Processing Record 46 of Set 16 | pevek\n",
      "Processing Record 47 of Set 16 | villanueva\n",
      "Processing Record 48 of Set 16 | berestechko\n",
      "Processing Record 49 of Set 16 | cayenne\n",
      "Processing Record 50 of Set 16 | yumbel\n",
      "Processing Record 1 of Set 17 | asau\n",
      "Processing Record 2 of Set 17 | vuktyl\n",
      "Processing Record 3 of Set 17 | tateyama\n",
      "Processing Record 4 of Set 17 | vaitape\n",
      "Processing Record 5 of Set 17 | hegra\n",
      "Processing Record 6 of Set 17 | korla\n",
      "Processing Record 7 of Set 17 | olavarria\n",
      "Processing Record 8 of Set 17 | birmitrapur\n",
      "Processing Record 9 of Set 17 | tupik\n",
      "Processing Record 10 of Set 17 | rawannawi\n",
      "City not found. Skipping...\n",
      "Processing Record 11 of Set 17 | umm lajj\n",
      "Processing Record 12 of Set 17 | mys shmidta\n",
      "City not found. Skipping...\n",
      "Processing Record 13 of Set 17 | luderitz\n",
      "Processing Record 14 of Set 17 | penhold\n",
      "Processing Record 15 of Set 17 | omutinskoye\n",
      "City not found. Skipping...\n",
      "Processing Record 16 of Set 17 | clyde river\n",
      "Processing Record 17 of Set 17 | kaitangata\n",
      "Processing Record 18 of Set 17 | torbay\n",
      "Processing Record 19 of Set 17 | rawlins\n",
      "Processing Record 20 of Set 17 | ambunti\n",
      "Processing Record 21 of Set 17 | upernavik\n",
      "Processing Record 22 of Set 17 | hamilton\n",
      "Processing Record 23 of Set 17 | norman wells\n",
      "Processing Record 24 of Set 17 | longyearbyen\n",
      "Processing Record 25 of Set 17 | weatherford\n",
      "Processing Record 26 of Set 17 | vila franca do campo\n",
      "Processing Record 27 of Set 17 | chokurdakh\n",
      "Processing Record 28 of Set 17 | sur\n",
      "Processing Record 29 of Set 17 | lujan\n",
      "Processing Record 30 of Set 17 | bud\n",
      "Processing Record 31 of Set 17 | aktau\n",
      "Processing Record 32 of Set 17 | nome\n",
      "Processing Record 33 of Set 17 | decatur\n",
      "Processing Record 34 of Set 17 | barreirinhas\n",
      "Processing Record 35 of Set 17 | fagernes\n",
      "Processing Record 36 of Set 17 | lavrentiya\n",
      "Processing Record 37 of Set 17 | oksfjord\n",
      "Processing Record 38 of Set 17 | kysyl-syr\n",
      "Processing Record 39 of Set 17 | derzhavinsk\n",
      "Processing Record 40 of Set 17 | tuatapere\n",
      "Processing Record 41 of Set 17 | buldana\n",
      "Processing Record 42 of Set 17 | usinsk\n",
      "Processing Record 43 of Set 17 | lompoc\n",
      "Processing Record 44 of Set 17 | veraval\n",
      "Processing Record 45 of Set 17 | port lincoln\n",
      "Processing Record 46 of Set 17 | illoqqortoormiut\n",
      "City not found. Skipping...\n",
      "Processing Record 47 of Set 17 | bagotville\n",
      "Processing Record 48 of Set 17 | charcas\n",
      "Processing Record 49 of Set 17 | port keats\n",
      "Processing Record 50 of Set 17 | pangnirtung\n",
      "Processing Record 1 of Set 18 | kodiak\n",
      "Processing Record 2 of Set 18 | columbia\n",
      "Processing Record 3 of Set 18 | nizhneyansk\n",
      "City not found. Skipping...\n",
      "Processing Record 4 of Set 18 | hofn\n",
      "Processing Record 5 of Set 18 | knysna\n",
      "Processing Record 6 of Set 18 | santiago de chuco\n",
      "Processing Record 7 of Set 18 | marsa matruh\n",
      "Processing Record 8 of Set 18 | peraiyur\n",
      "Processing Record 9 of Set 18 | quepos\n",
      "Processing Record 10 of Set 18 | portland\n",
      "Processing Record 11 of Set 18 | yarada\n",
      "Processing Record 12 of Set 18 | kletskaya\n",
      "Processing Record 13 of Set 18 | cherskiy\n",
      "Processing Record 14 of Set 18 | buala\n",
      "Processing Record 15 of Set 18 | varberg\n",
      "Processing Record 16 of Set 18 | khandyga\n",
      "Processing Record 17 of Set 18 | sabha\n",
      "Processing Record 18 of Set 18 | dingle\n",
      "Processing Record 19 of Set 18 | yubari\n",
      "Processing Record 20 of Set 18 | batagay\n",
      "Processing Record 21 of Set 18 | pisco\n",
      "Processing Record 22 of Set 18 | angren\n",
      "Processing Record 23 of Set 18 | ixtapa\n",
      "Processing Record 24 of Set 18 | paciran\n",
      "Processing Record 25 of Set 18 | ahuimanu\n",
      "Processing Record 26 of Set 18 | haimen\n",
      "Processing Record 27 of Set 18 | brigantine\n",
      "Processing Record 28 of Set 18 | lazo\n",
      "Processing Record 29 of Set 18 | samarai\n",
      "Processing Record 30 of Set 18 | ulladulla\n",
      "Processing Record 31 of Set 18 | tautira\n",
      "Processing Record 32 of Set 18 | ambon\n",
      "Processing Record 33 of Set 18 | kavieng\n",
      "Processing Record 34 of Set 18 | yulara\n",
      "Processing Record 35 of Set 18 | la plata\n",
      "Processing Record 36 of Set 18 | college\n",
      "Processing Record 37 of Set 18 | codrington\n",
      "Processing Record 38 of Set 18 | mount isa\n",
      "Processing Record 39 of Set 18 | morehead\n",
      "Processing Record 40 of Set 18 | pontes e lacerda\n",
      "Processing Record 41 of Set 18 | kupang\n",
      "Processing Record 42 of Set 18 | kawalu\n",
      "Processing Record 43 of Set 18 | cap malheureux\n",
      "Processing Record 44 of Set 18 | salalah\n",
      "Processing Record 45 of Set 18 | bon accord\n",
      "Processing Record 46 of Set 18 | sagua de tanamo\n",
      "Processing Record 47 of Set 18 | mamlyutka\n",
      "Processing Record 48 of Set 18 | yar-sale\n",
      "Processing Record 49 of Set 18 | kalmunai\n",
      "Processing Record 50 of Set 18 | ninghai\n",
      "Processing Record 1 of Set 19 | murgab\n",
      "Processing Record 2 of Set 19 | berlevag\n",
      "Processing Record 3 of Set 19 | kazalinsk\n",
      "City not found. Skipping...\n",
      "Processing Record 4 of Set 19 | cidreira\n",
      "Processing Record 5 of Set 19 | unai\n",
      "Processing Record 6 of Set 19 | tahta\n",
      "Processing Record 7 of Set 19 | meulaboh\n",
      "Processing Record 8 of Set 19 | margate\n",
      "Processing Record 9 of Set 19 | mahebourg\n",
      "Processing Record 10 of Set 19 | omsukchan\n",
      "Processing Record 11 of Set 19 | vanimo\n",
      "Processing Record 12 of Set 19 | fortuna\n",
      "Processing Record 13 of Set 19 | merke\n",
      "Processing Record 14 of Set 19 | paamiut\n",
      "Processing Record 15 of Set 19 | ponta delgada\n",
      "Processing Record 16 of Set 19 | namwala\n",
      "Processing Record 17 of Set 19 | west richland\n",
      "Processing Record 18 of Set 19 | lufilufi\n",
      "Processing Record 19 of Set 19 | jiayuguan\n",
      "Processing Record 20 of Set 19 | morant bay\n",
      "Processing Record 21 of Set 19 | anklam\n",
      "Processing Record 22 of Set 19 | port hedland\n",
      "Processing Record 23 of Set 19 | port augusta\n",
      "Processing Record 24 of Set 19 | alofi\n",
      "Processing Record 25 of Set 19 | poplar bluff\n",
      "Processing Record 26 of Set 19 | bocaiuva\n",
      "Processing Record 27 of Set 19 | jalu\n",
      "Processing Record 28 of Set 19 | andenes\n",
      "Processing Record 29 of Set 19 | charters towers\n",
      "Processing Record 30 of Set 19 | svetlyy\n",
      "Processing Record 31 of Set 19 | detchino\n",
      "Processing Record 32 of Set 19 | merauke\n",
      "Processing Record 33 of Set 19 | santa isabel\n",
      "Processing Record 34 of Set 19 | karauzyak\n",
      "City not found. Skipping...\n",
      "Processing Record 35 of Set 19 | los llanos de aridane\n",
      "Processing Record 36 of Set 19 | beloha\n",
      "Processing Record 37 of Set 19 | changli\n",
      "Processing Record 38 of Set 19 | priiskovyy\n",
      "Processing Record 39 of Set 19 | rolla\n",
      "Processing Record 40 of Set 19 | kaka\n",
      "Processing Record 41 of Set 19 | sanpetrul-mare\n",
      "City not found. Skipping...\n",
      "Processing Record 42 of Set 19 | atherton\n",
      "Processing Record 43 of Set 19 | onda\n",
      "Processing Record 44 of Set 19 | artyk\n",
      "City not found. Skipping...\n",
      "Processing Record 45 of Set 19 | tortoli\n",
      "Processing Record 46 of Set 19 | karratha\n",
      "Processing Record 47 of Set 19 | richmond\n",
      "Processing Record 48 of Set 19 | bemidji\n",
      "Processing Record 49 of Set 19 | gardendale\n",
      "Processing Record 50 of Set 19 | aflu\n",
      "City not found. Skipping...\n",
      "Processing Record 1 of Set 20 | nushki\n",
      "Processing Record 2 of Set 20 | la ronge\n",
      "Processing Record 3 of Set 20 | inuvik\n",
      "Processing Record 4 of Set 20 | bintulu\n",
      "Processing Record 5 of Set 20 | rungata\n",
      "City not found. Skipping...\n",
      "Processing Record 6 of Set 20 | gamba\n",
      "Processing Record 7 of Set 20 | olafsvik\n",
      "Processing Record 8 of Set 20 | santa maria da vitoria\n",
      "Processing Record 9 of Set 20 | nouadhibou\n",
      "Processing Record 10 of Set 20 | katsuura\n",
      "Processing Record 11 of Set 20 | atar\n",
      "Processing Record 12 of Set 20 | sorong\n",
      "Processing Record 13 of Set 20 | stow\n",
      "Processing Record 14 of Set 20 | san cristobal\n",
      "Processing Record 15 of Set 20 | beringovskiy\n",
      "Processing Record 16 of Set 20 | sudak\n",
      "Processing Record 17 of Set 20 | karamea\n",
      "City not found. Skipping...\n",
      "Processing Record 18 of Set 20 | sosnovo-ozerskoye\n"
     ]
    },
    {
     "name": "stdout",
     "output_type": "stream",
     "text": [
      "Processing Record 19 of Set 20 | imisli\n",
      "City not found. Skipping...\n",
      "Processing Record 20 of Set 20 | ust-tsilma\n",
      "Processing Record 21 of Set 20 | phan rang\n",
      "City not found. Skipping...\n",
      "Processing Record 22 of Set 20 | itapirapua\n",
      "Processing Record 23 of Set 20 | general roca\n",
      "Processing Record 24 of Set 20 | chifeng\n",
      "Processing Record 25 of Set 20 | kenai\n",
      "Processing Record 26 of Set 20 | ponta do sol\n",
      "Processing Record 27 of Set 20 | a coruna\n",
      "Processing Record 28 of Set 20 | seminole\n",
      "Processing Record 29 of Set 20 | avarua\n",
      "Processing Record 30 of Set 20 | sheridan\n",
      "Processing Record 31 of Set 20 | husavik\n",
      "Processing Record 32 of Set 20 | grand gaube\n",
      "Processing Record 33 of Set 20 | gat\n",
      "Processing Record 34 of Set 20 | raudeberg\n",
      "Processing Record 35 of Set 20 | palmer\n",
      "Processing Record 36 of Set 20 | waiouru\n",
      "Processing Record 37 of Set 20 | sambava\n",
      "Processing Record 38 of Set 20 | calama\n",
      "Processing Record 39 of Set 20 | emporia\n",
      "Processing Record 40 of Set 20 | paka\n",
      "Processing Record 41 of Set 20 | asosa\n",
      "Processing Record 42 of Set 20 | boa vista\n",
      "Processing Record 43 of Set 20 | te anau\n",
      "Processing Record 44 of Set 20 | magadan\n",
      "Processing Record 45 of Set 20 | gombong\n",
      "Processing Record 46 of Set 20 | nioro\n",
      "Processing Record 47 of Set 20 | kabompo\n",
      "Processing Record 48 of Set 20 | pestyaki\n",
      "Processing Record 49 of Set 20 | imeni poliny osipenko\n",
      "Processing Record 50 of Set 20 | kahului\n",
      "Processing Record 1 of Set 21 | nyurba\n",
      "Processing Record 2 of Set 21 | lucea\n",
      "Processing Record 3 of Set 21 | broken hill\n",
      "Processing Record 4 of Set 21 | tungkang\n",
      "City not found. Skipping...\n",
      "Processing Record 5 of Set 21 | labuhan\n",
      "Processing Record 6 of Set 21 | padang\n",
      "Processing Record 7 of Set 21 | biltine\n",
      "Processing Record 8 of Set 21 | rakhya\n",
      "City not found. Skipping...\n",
      "Processing Record 9 of Set 21 | ust-kulom\n",
      "Processing Record 10 of Set 21 | kodigenahalli\n",
      "Processing Record 11 of Set 21 | zhezkazgan\n",
      "Processing Record 12 of Set 21 | pakdasht\n",
      "Processing Record 13 of Set 21 | shache\n",
      "Processing Record 14 of Set 21 | grindavik\n",
      "Processing Record 15 of Set 21 | itacoatiara\n",
      "Processing Record 16 of Set 21 | byron bay\n",
      "Processing Record 17 of Set 21 | loralai\n",
      "Processing Record 18 of Set 21 | bongandanga\n",
      "Processing Record 19 of Set 21 | houma\n",
      "Processing Record 20 of Set 21 | te karaka\n",
      "Processing Record 21 of Set 21 | kautokeino\n",
      "Processing Record 22 of Set 21 | fernandez\n",
      "Processing Record 23 of Set 21 | pangkalanbuun\n",
      "Processing Record 24 of Set 21 | karamay\n",
      "City not found. Skipping...\n",
      "Processing Record 25 of Set 21 | bulaevo\n",
      "Processing Record 26 of Set 21 | ancud\n",
      "Processing Record 27 of Set 21 | contamana\n",
      "Processing Record 28 of Set 21 | beidao\n",
      "Processing Record 29 of Set 21 | tidore\n",
      "City not found. Skipping...\n",
      "Processing Record 30 of Set 21 | kermanshah\n",
      "Processing Record 31 of Set 21 | avesta\n",
      "Processing Record 32 of Set 21 | lithakia\n",
      "Processing Record 33 of Set 21 | taunggyi\n",
      "Processing Record 34 of Set 21 | kieta\n",
      "Processing Record 35 of Set 21 | tapejara\n",
      "Processing Record 36 of Set 21 | orocue\n",
      "Processing Record 37 of Set 21 | sulangan\n",
      "Processing Record 38 of Set 21 | luwuk\n",
      "Processing Record 39 of Set 21 | alyangula\n",
      "Processing Record 40 of Set 21 | maniitsoq\n",
      "Processing Record 41 of Set 21 | humaita\n",
      "Processing Record 42 of Set 21 | taburi\n",
      "City not found. Skipping...\n",
      "Processing Record 43 of Set 21 | namatanai\n",
      "Processing Record 44 of Set 21 | ocland\n",
      "Processing Record 45 of Set 21 | mapimi\n",
      "Processing Record 46 of Set 21 | sergeyevka\n",
      "Processing Record 47 of Set 21 | prince rupert\n",
      "Processing Record 48 of Set 21 | morondava\n",
      "Processing Record 49 of Set 21 | san juan\n",
      "Processing Record 50 of Set 21 | kazachinskoye\n",
      "Processing Record 1 of Set 22 | nokaneng\n",
      "Processing Record 2 of Set 22 | tumannyy\n",
      "City not found. Skipping...\n",
      "Processing Record 3 of Set 22 | van\n",
      "Processing Record 4 of Set 22 | malakal\n",
      "Processing Record 5 of Set 22 | chingirlau\n",
      "Processing Record 6 of Set 22 | forssa\n",
      "Processing Record 7 of Set 22 | saveh\n",
      "Processing Record 8 of Set 22 | narsaq\n",
      "Processing Record 9 of Set 22 | dakar\n",
      "Processing Record 10 of Set 22 | teruel\n",
      "Processing Record 11 of Set 22 | orotukan\n",
      "Processing Record 12 of Set 22 | nipawin\n",
      "Processing Record 13 of Set 22 | souillac\n",
      "Processing Record 14 of Set 22 | necochea\n",
      "Processing Record 15 of Set 22 | solsvik\n",
      "City not found. Skipping...\n",
      "Processing Record 16 of Set 22 | half moon bay\n",
      "Processing Record 17 of Set 22 | araouane\n",
      "Processing Record 18 of Set 22 | topolobampo\n",
      "Processing Record 19 of Set 22 | looc\n",
      "Processing Record 20 of Set 22 | davila\n",
      "Processing Record 21 of Set 22 | yuanping\n",
      "Processing Record 22 of Set 22 | todos santos\n",
      "Processing Record 23 of Set 22 | tamiahua\n",
      "Processing Record 24 of Set 22 | khani\n",
      "Processing Record 25 of Set 22 | hami\n",
      "Processing Record 26 of Set 22 | doume\n",
      "Processing Record 27 of Set 22 | bhuj\n",
      "Processing Record 28 of Set 22 | ahipara\n",
      "Processing Record 29 of Set 22 | napier\n",
      "Processing Record 30 of Set 22 | vestmannaeyjar\n",
      "Processing Record 31 of Set 22 | mehamn\n",
      "Processing Record 32 of Set 22 | steyr\n",
      "Processing Record 33 of Set 22 | bathsheba\n",
      "Processing Record 34 of Set 22 | heidenreichstein\n",
      "Processing Record 35 of Set 22 | beira\n",
      "Processing Record 36 of Set 22 | demecser\n",
      "Processing Record 37 of Set 22 | menongue\n",
      "Processing Record 38 of Set 22 | perama\n",
      "Processing Record 39 of Set 22 | mount pleasant\n",
      "Processing Record 40 of Set 22 | herat\n",
      "Processing Record 41 of Set 22 | milingimbi\n",
      "City not found. Skipping...\n",
      "Processing Record 42 of Set 22 | arlit\n",
      "Processing Record 43 of Set 22 | hun\n",
      "Processing Record 44 of Set 22 | tenkodogo\n",
      "Processing Record 45 of Set 22 | vestmanna\n",
      "Processing Record 46 of Set 22 | la brea\n",
      "Processing Record 47 of Set 22 | celina\n",
      "Processing Record 48 of Set 22 | taga\n",
      "Processing Record 49 of Set 22 | dekar\n",
      "Processing Record 50 of Set 22 | la ligua\n",
      "Processing Record 1 of Set 23 | okato\n",
      "Processing Record 2 of Set 23 | zhangye\n",
      "Processing Record 3 of Set 23 | berdigestyakh\n",
      "Processing Record 4 of Set 23 | galle\n",
      "Processing Record 5 of Set 23 | goma\n",
      "Processing Record 6 of Set 23 | lalomanu\n",
      "City not found. Skipping...\n",
      "Processing Record 7 of Set 23 | opobo\n",
      "City not found. Skipping...\n",
      "Processing Record 8 of Set 23 | karkaralinsk\n",
      "City not found. Skipping...\n",
      "Processing Record 9 of Set 23 | havre-saint-pierre\n",
      "Processing Record 10 of Set 23 | lahaina\n",
      "Processing Record 11 of Set 23 | cookeville\n",
      "Processing Record 12 of Set 23 | loa janan\n",
      "Processing Record 13 of Set 23 | rio gallegos\n",
      "Processing Record 14 of Set 23 | georgiyevka\n",
      "Processing Record 15 of Set 23 | lethem\n",
      "Processing Record 16 of Set 23 | saint george\n",
      "Processing Record 17 of Set 23 | richards bay\n",
      "Processing Record 18 of Set 23 | denpasar\n",
      "Processing Record 19 of Set 23 | goalpara\n",
      "Processing Record 20 of Set 23 | porto seguro\n",
      "Processing Record 21 of Set 23 | alpena\n",
      "Processing Record 22 of Set 23 | marzuq\n",
      "Processing Record 23 of Set 23 | santarem\n",
      "Processing Record 24 of Set 23 | wulanhaote\n",
      "City not found. Skipping...\n",
      "Processing Record 25 of Set 23 | teya\n",
      "Processing Record 26 of Set 23 | esperance\n",
      "Processing Record 27 of Set 23 | talah\n",
      "City not found. Skipping...\n",
      "Processing Record 28 of Set 23 | srandakan\n",
      "Processing Record 29 of Set 23 | sao filipe\n",
      "Processing Record 30 of Set 23 | halifax\n",
      "Processing Record 31 of Set 23 | babol\n",
      "Processing Record 32 of Set 23 | nara\n",
      "Processing Record 33 of Set 23 | malanje\n",
      "Processing Record 34 of Set 23 | chelyabinsk-70\n",
      "City not found. Skipping...\n",
      "Processing Record 35 of Set 23 | klin\n",
      "Processing Record 36 of Set 23 | kutum\n",
      "Processing Record 37 of Set 23 | saleaula\n",
      "City not found. Skipping...\n",
      "Processing Record 38 of Set 23 | muroto\n",
      "Processing Record 39 of Set 23 | mazyr\n",
      "Processing Record 40 of Set 23 | kapuskasing\n",
      "Processing Record 41 of Set 23 | qiongshan\n",
      "Processing Record 42 of Set 23 | barra do garcas\n",
      "Processing Record 43 of Set 23 | ushtobe\n",
      "Processing Record 44 of Set 23 | akdepe\n",
      "Processing Record 45 of Set 23 | namibe\n",
      "Processing Record 46 of Set 23 | durban\n",
      "Processing Record 47 of Set 23 | porbandar\n",
      "Processing Record 48 of Set 23 | san quintin\n",
      "Processing Record 49 of Set 23 | fairbanks\n",
      "Processing Record 50 of Set 23 | solofra\n",
      "Processing Record 1 of Set 24 | ust-ishim\n",
      "Processing Record 2 of Set 24 | kiama\n",
      "Processing Record 3 of Set 24 | praia da vitoria\n"
     ]
    },
    {
     "name": "stdout",
     "output_type": "stream",
     "text": [
      "Processing Record 4 of Set 24 | freeport\n",
      "Processing Record 5 of Set 24 | henties bay\n",
      "Processing Record 6 of Set 24 | babanusah\n",
      "City not found. Skipping...\n",
      "Processing Record 7 of Set 24 | sinnamary\n",
      "Processing Record 8 of Set 24 | jumla\n",
      "Processing Record 9 of Set 24 | antalaha\n",
      "Processing Record 10 of Set 24 | invermere\n",
      "Processing Record 11 of Set 24 | changji\n",
      "Processing Record 12 of Set 24 | catamarca\n",
      "Processing Record 13 of Set 24 | shubarshi\n",
      "Processing Record 14 of Set 24 | pasni\n",
      "Processing Record 15 of Set 24 | kuching\n",
      "Processing Record 16 of Set 24 | axim\n",
      "Processing Record 17 of Set 24 | the valley\n",
      "Processing Record 18 of Set 24 | mandera\n",
      "Processing Record 19 of Set 24 | fevralsk\n",
      "City not found. Skipping...\n",
      "Processing Record 20 of Set 24 | giyani\n",
      "Processing Record 21 of Set 24 | isangel\n",
      "Processing Record 22 of Set 24 | flinders\n",
      "Processing Record 23 of Set 24 | sharjah\n",
      "Processing Record 24 of Set 24 | katobu\n",
      "Processing Record 25 of Set 24 | pacific grove\n",
      "Processing Record 26 of Set 24 | presque isle\n",
      "Processing Record 27 of Set 24 | pathein\n",
      "Processing Record 28 of Set 24 | kemijarvi\n",
      "City not found. Skipping...\n",
      "Processing Record 29 of Set 24 | toba\n",
      "Processing Record 30 of Set 24 | ugep\n",
      "Processing Record 31 of Set 24 | nantucket\n",
      "Processing Record 32 of Set 24 | sinkat\n",
      "City not found. Skipping...\n",
      "Processing Record 33 of Set 24 | celestun\n",
      "Processing Record 34 of Set 24 | sayyan\n",
      "Processing Record 35 of Set 24 | tirumullaivasal\n",
      "Processing Record 36 of Set 24 | puksoozero\n",
      "Processing Record 37 of Set 24 | sitka\n",
      "Processing Record 38 of Set 24 | waingapu\n",
      "Processing Record 39 of Set 24 | mitu\n",
      "Processing Record 40 of Set 24 | sokoto\n",
      "Processing Record 41 of Set 24 | udachnyy\n",
      "Processing Record 42 of Set 24 | port macquarie\n",
      "Processing Record 43 of Set 24 | ostrzeszow\n",
      "Processing Record 44 of Set 24 | olivenza\n",
      "Processing Record 45 of Set 24 | monrovia\n",
      "Processing Record 46 of Set 24 | chokwe\n",
      "Processing Record 47 of Set 24 | palabuhanratu\n",
      "City not found. Skipping...\n",
      "Processing Record 48 of Set 24 | orlik\n",
      "Processing Record 49 of Set 24 | sao jose de ribamar\n",
      "Processing Record 50 of Set 24 | juneau\n",
      "Processing Record 1 of Set 25 | bucak\n",
      "Processing Record 2 of Set 25 | redcliffe\n",
      "Processing Record 3 of Set 25 | zaritap\n",
      "Processing Record 4 of Set 25 | gelemso\n",
      "Processing Record 5 of Set 25 | yuxia\n",
      "Processing Record 6 of Set 25 | cockburn town\n",
      "Processing Record 7 of Set 25 | poso\n",
      "Processing Record 8 of Set 25 | karatau\n",
      "Processing Record 9 of Set 25 | worland\n",
      "Processing Record 10 of Set 25 | sechura\n",
      "Processing Record 11 of Set 25 | itoman\n",
      "Processing Record 12 of Set 25 | uige\n",
      "Processing Record 13 of Set 25 | inderborskiy\n",
      "City not found. Skipping...\n",
      "Processing Record 14 of Set 25 | tame\n",
      "Processing Record 15 of Set 25 | laguna\n",
      "Processing Record 16 of Set 25 | bol\n",
      "-----------------------------\n",
      "Data Retrieval Complete      \n",
      "-----------------------------\n"
     ]
    }
   ],
   "source": [
    "# Loop through all the cities in the list.\n",
    "for i, city in enumerate(cities):\n",
    "\n",
    "    # Group cities in sets of 50 for logging purposes.\n",
    "    if (i % 50 == 0 and i >= 50):\n",
    "        set_count += 1\n",
    "        record_count = 1\n",
    "    # Create endpoint URL with each city.\n",
    "    city_url = url + \"&q=\" + city\n",
    "\n",
    "    # Log the URL, record, and set numbers and the city.\n",
    "    print(f\"Processing Record {record_count} of Set {set_count} | {city}\")\n",
    "    # Add 1 to the record count.\n",
    "    record_count += 1\n",
    "    # Run an API request for each of the cities.\n",
    "    try:\n",
    "        # Parse the JSON and retrieve data.\n",
    "        city_weather = requests.get(city_url).json()\n",
    "        # Parse out the needed data.\n",
    "        city_lat = city_weather[\"coord\"][\"lat\"]\n",
    "        city_lng = city_weather[\"coord\"][\"lon\"]\n",
    "        city_max_temp = city_weather[\"main\"][\"temp_max\"]\n",
    "        city_humidity = city_weather[\"main\"][\"humidity\"]\n",
    "        city_clouds = city_weather[\"clouds\"][\"all\"]\n",
    "        city_wind = city_weather[\"wind\"][\"speed\"]\n",
    "        city_country = city_weather[\"sys\"][\"country\"]\n",
    "        # Convert the date to ISO standard.\n",
    "        city_date = datetime.utcfromtimestamp(city_weather[\"dt\"]).strftime('%Y-%m-%d %H:%M:%S')\n",
    "        # Append the city information into city_data list.\n",
    "        city_data.append({\"City\": city.title(),\n",
    "                          \"Lat\": city_lat,\n",
    "                          \"Lng\": city_lng,\n",
    "                          \"Max Temp\": city_max_temp,\n",
    "                          \"Humidity\": city_humidity,\n",
    "                          \"Cloudiness\": city_clouds,\n",
    "                          \"Wind Speed\": city_wind,\n",
    "                          \"Country\": city_country,\n",
    "                          \"Date\": city_date})\n",
    "\n",
    "# If an error is experienced, skip the city.\n",
    "    except:\n",
    "        print(\"City not found. Skipping...\")\n",
    "        pass\n",
    "\n",
    "# Indicate that Data Loading is complete.\n",
    "print(\"-----------------------------\")\n",
    "print(\"Data Retrieval Complete      \")\n",
    "print(\"-----------------------------\")"
   ]
  },
  {
   "cell_type": "code",
   "execution_count": 37,
   "metadata": {},
   "outputs": [
    {
     "data": {
      "text/plain": [
       "562"
      ]
     },
     "execution_count": 37,
     "metadata": {},
     "output_type": "execute_result"
    }
   ],
   "source": [
    "len(city_data)"
   ]
  },
  {
   "cell_type": "code",
   "execution_count": 38,
   "metadata": {},
   "outputs": [
    {
     "data": {
      "text/html": [
       "<div>\n",
       "<style scoped>\n",
       "    .dataframe tbody tr th:only-of-type {\n",
       "        vertical-align: middle;\n",
       "    }\n",
       "\n",
       "    .dataframe tbody tr th {\n",
       "        vertical-align: top;\n",
       "    }\n",
       "\n",
       "    .dataframe thead th {\n",
       "        text-align: right;\n",
       "    }\n",
       "</style>\n",
       "<table border=\"1\" class=\"dataframe\">\n",
       "  <thead>\n",
       "    <tr style=\"text-align: right;\">\n",
       "      <th></th>\n",
       "      <th>City</th>\n",
       "      <th>Lat</th>\n",
       "      <th>Lng</th>\n",
       "      <th>Max Temp</th>\n",
       "      <th>Humidity</th>\n",
       "      <th>Cloudiness</th>\n",
       "      <th>Wind Speed</th>\n",
       "      <th>Country</th>\n",
       "      <th>Date</th>\n",
       "    </tr>\n",
       "  </thead>\n",
       "  <tbody>\n",
       "    <tr>\n",
       "      <th>0</th>\n",
       "      <td>Moerai</td>\n",
       "      <td>-22.43</td>\n",
       "      <td>-151.33</td>\n",
       "      <td>81.36</td>\n",
       "      <td>83</td>\n",
       "      <td>100</td>\n",
       "      <td>11.79</td>\n",
       "      <td>PF</td>\n",
       "      <td>2020-02-20 07:18:41</td>\n",
       "    </tr>\n",
       "    <tr>\n",
       "      <th>1</th>\n",
       "      <td>Mataura</td>\n",
       "      <td>-46.19</td>\n",
       "      <td>168.86</td>\n",
       "      <td>70.00</td>\n",
       "      <td>77</td>\n",
       "      <td>93</td>\n",
       "      <td>4.00</td>\n",
       "      <td>NZ</td>\n",
       "      <td>2020-02-20 07:18:41</td>\n",
       "    </tr>\n",
       "    <tr>\n",
       "      <th>2</th>\n",
       "      <td>Itarema</td>\n",
       "      <td>-2.92</td>\n",
       "      <td>-39.92</td>\n",
       "      <td>74.44</td>\n",
       "      <td>93</td>\n",
       "      <td>100</td>\n",
       "      <td>3.67</td>\n",
       "      <td>BR</td>\n",
       "      <td>2020-02-20 07:18:42</td>\n",
       "    </tr>\n",
       "    <tr>\n",
       "      <th>3</th>\n",
       "      <td>Nanortalik</td>\n",
       "      <td>60.14</td>\n",
       "      <td>-45.24</td>\n",
       "      <td>19.04</td>\n",
       "      <td>51</td>\n",
       "      <td>100</td>\n",
       "      <td>7.74</td>\n",
       "      <td>GL</td>\n",
       "      <td>2020-02-20 07:18:42</td>\n",
       "    </tr>\n",
       "    <tr>\n",
       "      <th>4</th>\n",
       "      <td>Chuy</td>\n",
       "      <td>-33.70</td>\n",
       "      <td>-53.46</td>\n",
       "      <td>67.28</td>\n",
       "      <td>92</td>\n",
       "      <td>0</td>\n",
       "      <td>5.32</td>\n",
       "      <td>UY</td>\n",
       "      <td>2020-02-20 07:18:42</td>\n",
       "    </tr>\n",
       "    <tr>\n",
       "      <th>5</th>\n",
       "      <td>Barrow</td>\n",
       "      <td>71.29</td>\n",
       "      <td>-156.79</td>\n",
       "      <td>-2.20</td>\n",
       "      <td>77</td>\n",
       "      <td>90</td>\n",
       "      <td>9.17</td>\n",
       "      <td>US</td>\n",
       "      <td>2020-02-20 07:16:47</td>\n",
       "    </tr>\n",
       "    <tr>\n",
       "      <th>6</th>\n",
       "      <td>Guerrero</td>\n",
       "      <td>17.67</td>\n",
       "      <td>-100.00</td>\n",
       "      <td>57.45</td>\n",
       "      <td>58</td>\n",
       "      <td>0</td>\n",
       "      <td>2.08</td>\n",
       "      <td>MX</td>\n",
       "      <td>2020-02-20 07:18:42</td>\n",
       "    </tr>\n",
       "    <tr>\n",
       "      <th>7</th>\n",
       "      <td>Kapaa</td>\n",
       "      <td>22.08</td>\n",
       "      <td>-159.32</td>\n",
       "      <td>75.20</td>\n",
       "      <td>73</td>\n",
       "      <td>90</td>\n",
       "      <td>23.04</td>\n",
       "      <td>US</td>\n",
       "      <td>2020-02-20 07:17:15</td>\n",
       "    </tr>\n",
       "    <tr>\n",
       "      <th>8</th>\n",
       "      <td>Hithadhoo</td>\n",
       "      <td>-0.60</td>\n",
       "      <td>73.08</td>\n",
       "      <td>82.92</td>\n",
       "      <td>78</td>\n",
       "      <td>28</td>\n",
       "      <td>16.15</td>\n",
       "      <td>MV</td>\n",
       "      <td>2020-02-20 07:18:43</td>\n",
       "    </tr>\n",
       "    <tr>\n",
       "      <th>9</th>\n",
       "      <td>Valley City</td>\n",
       "      <td>46.92</td>\n",
       "      <td>-98.00</td>\n",
       "      <td>-5.80</td>\n",
       "      <td>83</td>\n",
       "      <td>1</td>\n",
       "      <td>4.70</td>\n",
       "      <td>US</td>\n",
       "      <td>2020-02-20 07:18:43</td>\n",
       "    </tr>\n",
       "  </tbody>\n",
       "</table>\n",
       "</div>"
      ],
      "text/plain": [
       "          City    Lat     Lng  Max Temp  Humidity  Cloudiness  Wind Speed  \\\n",
       "0       Moerai -22.43 -151.33     81.36        83         100       11.79   \n",
       "1      Mataura -46.19  168.86     70.00        77          93        4.00   \n",
       "2      Itarema  -2.92  -39.92     74.44        93         100        3.67   \n",
       "3   Nanortalik  60.14  -45.24     19.04        51         100        7.74   \n",
       "4         Chuy -33.70  -53.46     67.28        92           0        5.32   \n",
       "5       Barrow  71.29 -156.79     -2.20        77          90        9.17   \n",
       "6     Guerrero  17.67 -100.00     57.45        58           0        2.08   \n",
       "7        Kapaa  22.08 -159.32     75.20        73          90       23.04   \n",
       "8    Hithadhoo  -0.60   73.08     82.92        78          28       16.15   \n",
       "9  Valley City  46.92  -98.00     -5.80        83           1        4.70   \n",
       "\n",
       "  Country                 Date  \n",
       "0      PF  2020-02-20 07:18:41  \n",
       "1      NZ  2020-02-20 07:18:41  \n",
       "2      BR  2020-02-20 07:18:42  \n",
       "3      GL  2020-02-20 07:18:42  \n",
       "4      UY  2020-02-20 07:18:42  \n",
       "5      US  2020-02-20 07:16:47  \n",
       "6      MX  2020-02-20 07:18:42  \n",
       "7      US  2020-02-20 07:17:15  \n",
       "8      MV  2020-02-20 07:18:43  \n",
       "9      US  2020-02-20 07:18:43  "
      ]
     },
     "execution_count": 38,
     "metadata": {},
     "output_type": "execute_result"
    }
   ],
   "source": [
    "# Convert the array of dictionaries to a Pandas DataFrame.\n",
    "city_data_df = pd.DataFrame(city_data)\n",
    "city_data_df.head(10)"
   ]
  },
  {
   "cell_type": "code",
   "execution_count": 40,
   "metadata": {},
   "outputs": [],
   "source": [
    "new_col_ord = [\"City\", \"Country\",\"Date\", \"Lat\",\"Lng\", \"Max Temp\", \"Humidity\", \"Cloudiness\", \"Wind Speed\"]\n",
    "city_data_df = city_data_df[new_col_ord]"
   ]
  },
  {
   "cell_type": "code",
   "execution_count": 41,
   "metadata": {},
   "outputs": [
    {
     "data": {
      "text/html": [
       "<div>\n",
       "<style scoped>\n",
       "    .dataframe tbody tr th:only-of-type {\n",
       "        vertical-align: middle;\n",
       "    }\n",
       "\n",
       "    .dataframe tbody tr th {\n",
       "        vertical-align: top;\n",
       "    }\n",
       "\n",
       "    .dataframe thead th {\n",
       "        text-align: right;\n",
       "    }\n",
       "</style>\n",
       "<table border=\"1\" class=\"dataframe\">\n",
       "  <thead>\n",
       "    <tr style=\"text-align: right;\">\n",
       "      <th></th>\n",
       "      <th>City</th>\n",
       "      <th>Country</th>\n",
       "      <th>Date</th>\n",
       "      <th>Lat</th>\n",
       "      <th>Lng</th>\n",
       "      <th>Max Temp</th>\n",
       "      <th>Humidity</th>\n",
       "      <th>Cloudiness</th>\n",
       "      <th>Wind Speed</th>\n",
       "    </tr>\n",
       "  </thead>\n",
       "  <tbody>\n",
       "    <tr>\n",
       "      <th>0</th>\n",
       "      <td>Moerai</td>\n",
       "      <td>PF</td>\n",
       "      <td>2020-02-20 07:18:41</td>\n",
       "      <td>-22.43</td>\n",
       "      <td>-151.33</td>\n",
       "      <td>81.36</td>\n",
       "      <td>83</td>\n",
       "      <td>100</td>\n",
       "      <td>11.79</td>\n",
       "    </tr>\n",
       "    <tr>\n",
       "      <th>1</th>\n",
       "      <td>Mataura</td>\n",
       "      <td>NZ</td>\n",
       "      <td>2020-02-20 07:18:41</td>\n",
       "      <td>-46.19</td>\n",
       "      <td>168.86</td>\n",
       "      <td>70.00</td>\n",
       "      <td>77</td>\n",
       "      <td>93</td>\n",
       "      <td>4.00</td>\n",
       "    </tr>\n",
       "    <tr>\n",
       "      <th>2</th>\n",
       "      <td>Itarema</td>\n",
       "      <td>BR</td>\n",
       "      <td>2020-02-20 07:18:42</td>\n",
       "      <td>-2.92</td>\n",
       "      <td>-39.92</td>\n",
       "      <td>74.44</td>\n",
       "      <td>93</td>\n",
       "      <td>100</td>\n",
       "      <td>3.67</td>\n",
       "    </tr>\n",
       "    <tr>\n",
       "      <th>3</th>\n",
       "      <td>Nanortalik</td>\n",
       "      <td>GL</td>\n",
       "      <td>2020-02-20 07:18:42</td>\n",
       "      <td>60.14</td>\n",
       "      <td>-45.24</td>\n",
       "      <td>19.04</td>\n",
       "      <td>51</td>\n",
       "      <td>100</td>\n",
       "      <td>7.74</td>\n",
       "    </tr>\n",
       "    <tr>\n",
       "      <th>4</th>\n",
       "      <td>Chuy</td>\n",
       "      <td>UY</td>\n",
       "      <td>2020-02-20 07:18:42</td>\n",
       "      <td>-33.70</td>\n",
       "      <td>-53.46</td>\n",
       "      <td>67.28</td>\n",
       "      <td>92</td>\n",
       "      <td>0</td>\n",
       "      <td>5.32</td>\n",
       "    </tr>\n",
       "    <tr>\n",
       "      <th>5</th>\n",
       "      <td>Barrow</td>\n",
       "      <td>US</td>\n",
       "      <td>2020-02-20 07:16:47</td>\n",
       "      <td>71.29</td>\n",
       "      <td>-156.79</td>\n",
       "      <td>-2.20</td>\n",
       "      <td>77</td>\n",
       "      <td>90</td>\n",
       "      <td>9.17</td>\n",
       "    </tr>\n",
       "    <tr>\n",
       "      <th>6</th>\n",
       "      <td>Guerrero</td>\n",
       "      <td>MX</td>\n",
       "      <td>2020-02-20 07:18:42</td>\n",
       "      <td>17.67</td>\n",
       "      <td>-100.00</td>\n",
       "      <td>57.45</td>\n",
       "      <td>58</td>\n",
       "      <td>0</td>\n",
       "      <td>2.08</td>\n",
       "    </tr>\n",
       "    <tr>\n",
       "      <th>7</th>\n",
       "      <td>Kapaa</td>\n",
       "      <td>US</td>\n",
       "      <td>2020-02-20 07:17:15</td>\n",
       "      <td>22.08</td>\n",
       "      <td>-159.32</td>\n",
       "      <td>75.20</td>\n",
       "      <td>73</td>\n",
       "      <td>90</td>\n",
       "      <td>23.04</td>\n",
       "    </tr>\n",
       "    <tr>\n",
       "      <th>8</th>\n",
       "      <td>Hithadhoo</td>\n",
       "      <td>MV</td>\n",
       "      <td>2020-02-20 07:18:43</td>\n",
       "      <td>-0.60</td>\n",
       "      <td>73.08</td>\n",
       "      <td>82.92</td>\n",
       "      <td>78</td>\n",
       "      <td>28</td>\n",
       "      <td>16.15</td>\n",
       "    </tr>\n",
       "    <tr>\n",
       "      <th>9</th>\n",
       "      <td>Valley City</td>\n",
       "      <td>US</td>\n",
       "      <td>2020-02-20 07:18:43</td>\n",
       "      <td>46.92</td>\n",
       "      <td>-98.00</td>\n",
       "      <td>-5.80</td>\n",
       "      <td>83</td>\n",
       "      <td>1</td>\n",
       "      <td>4.70</td>\n",
       "    </tr>\n",
       "  </tbody>\n",
       "</table>\n",
       "</div>"
      ],
      "text/plain": [
       "          City Country                 Date    Lat     Lng  Max Temp  \\\n",
       "0       Moerai      PF  2020-02-20 07:18:41 -22.43 -151.33     81.36   \n",
       "1      Mataura      NZ  2020-02-20 07:18:41 -46.19  168.86     70.00   \n",
       "2      Itarema      BR  2020-02-20 07:18:42  -2.92  -39.92     74.44   \n",
       "3   Nanortalik      GL  2020-02-20 07:18:42  60.14  -45.24     19.04   \n",
       "4         Chuy      UY  2020-02-20 07:18:42 -33.70  -53.46     67.28   \n",
       "5       Barrow      US  2020-02-20 07:16:47  71.29 -156.79     -2.20   \n",
       "6     Guerrero      MX  2020-02-20 07:18:42  17.67 -100.00     57.45   \n",
       "7        Kapaa      US  2020-02-20 07:17:15  22.08 -159.32     75.20   \n",
       "8    Hithadhoo      MV  2020-02-20 07:18:43  -0.60   73.08     82.92   \n",
       "9  Valley City      US  2020-02-20 07:18:43  46.92  -98.00     -5.80   \n",
       "\n",
       "   Humidity  Cloudiness  Wind Speed  \n",
       "0        83         100       11.79  \n",
       "1        77          93        4.00  \n",
       "2        93         100        3.67  \n",
       "3        51         100        7.74  \n",
       "4        92           0        5.32  \n",
       "5        77          90        9.17  \n",
       "6        58           0        2.08  \n",
       "7        73          90       23.04  \n",
       "8        78          28       16.15  \n",
       "9        83           1        4.70  "
      ]
     },
     "execution_count": 41,
     "metadata": {},
     "output_type": "execute_result"
    }
   ],
   "source": [
    "city_data_df.head(10)"
   ]
  },
  {
   "cell_type": "code",
   "execution_count": 43,
   "metadata": {},
   "outputs": [],
   "source": [
    "# Create the output file (CSV).\n",
    "output_data_file = \"weather_data/cities.csv\"\n",
    "# Export the City_Data into a CSV.\n",
    "city_data_df.to_csv(output_data_file, index_label=\"City_ID\")"
   ]
  },
  {
   "cell_type": "code",
   "execution_count": 44,
   "metadata": {},
   "outputs": [],
   "source": [
    "# Extract relevant fields from the DataFrame for plotting.\n",
    "lats = city_data_df[\"Lat\"]\n",
    "max_temps = city_data_df[\"Max Temp\"]\n",
    "humidity = city_data_df[\"Humidity\"]\n",
    "cloudiness = city_data_df[\"Cloudiness\"]\n",
    "wind_speed = city_data_df[\"Wind Speed\"]"
   ]
  },
  {
   "cell_type": "code",
   "execution_count": 50,
   "metadata": {},
   "outputs": [
    {
     "data": {
      "image/png": "[encoded data removed]",
      "text/plain": [
       "<Figure size 432x288 with 1 Axes>"
      ]
     },
     "metadata": {
      "needs_background": "light"
     },
     "output_type": "display_data"
    }
   ],
   "source": [
    "# Import the time module.\n",
    "import time\n",
    "# IMporting Matplotlib\n",
    "import matplotlib.pyplot as plt\n",
    "# Build the scatter plot for latitude vs. max temperature.\n",
    "plt.scatter(lats,\n",
    "            max_temps,\n",
    "            edgecolor=\"black\", linewidths=1, marker=\"o\",\n",
    "            alpha=0.8, label=\"Cities\")\n",
    "\n",
    "# Incorporate the other graph properties.\n",
    "plt.title(f\"City Latitude vs. Max Temperature \"+ time.strftime(\"%x\"))\n",
    "plt.ylabel(\"Max Temperature (F)\")\n",
    "plt.xlabel(\"Latitude\")\n",
    "plt.grid(True)\n",
    "\n",
    "# Save the figure.\n",
    "plt.savefig(\"weather_data/Fig1.png\")\n",
    "\n",
    "# Show plot.\n",
    "plt.show()"
   ]
  },
  {
   "cell_type": "code",
   "execution_count": 51,
   "metadata": {},
   "outputs": [
    {
     "data": {
      "image/png": "[encoded data removed]",
      "text/plain": [
       "<Figure size 432x288 with 1 Axes>"
      ]
     },
     "metadata": {
      "needs_background": "light"
     },
     "output_type": "display_data"
    }
   ],
   "source": [
    "# Build the scatter plot for latitude vs. max temperature.\n",
    "plt.scatter(lats,\n",
    "            humidity,\n",
    "            edgecolor=\"black\", linewidths=1, marker=\"o\",\n",
    "            alpha=0.8, label=\"Cities\")\n",
    "\n",
    "# Incorporate the other graph properties.\n",
    "plt.title(f\"City Latitude vs. Humidity \"+ time.strftime(\"%x\"))\n",
    "plt.ylabel(\"Humidity(%)\")\n",
    "plt.xlabel(\"Latitude\")\n",
    "plt.grid(True)\n",
    "\n",
    "# Save the figure.\n",
    "plt.savefig(\"weather_data/Fig2.png\")\n",
    "\n",
    "# Show plot.\n",
    "plt.show()"
   ]
  },
  {
   "cell_type": "code",
   "execution_count": 52,
   "metadata": {},
   "outputs": [
    {
     "data": {
      "image/png": "[encoded data removed]",
      "text/plain": [
       "<Figure size 432x288 with 1 Axes>"
      ]
     },
     "metadata": {
      "needs_background": "light"
     },
     "output_type": "display_data"
    }
   ],
   "source": [
    "# Build the scatter plot for latitude vs. max temperature.\n",
    "plt.scatter(lats,\n",
    "            cloudiness,\n",
    "            edgecolor=\"black\", linewidths=1, marker=\"o\",\n",
    "            alpha=0.8, label=\"Cities\")\n",
    "\n",
    "# Incorporate the other graph properties.\n",
    "plt.title(f\"City Latitude vs. Cloudiness \"+ time.strftime(\"%x\"))\n",
    "plt.ylabel(\"Cloudiness (%)\")\n",
    "plt.xlabel(\"Latitude\")\n",
    "plt.grid(True)\n",
    "\n",
    "# Save the figure.\n",
    "plt.savefig(\"weather_data/Fig3.png\")\n",
    "\n",
    "# Show plot.\n",
    "plt.show()"
   ]
  },
  {
   "cell_type": "code",
   "execution_count": 53,
   "metadata": {},
   "outputs": [
    {
     "data": {
      "image/png": "[encoded data removed]",
      "text/plain": [
       "<Figure size 432x288 with 1 Axes>"
      ]
     },
     "metadata": {
      "needs_background": "light"
     },
     "output_type": "display_data"
    }
   ],
   "source": [
    "# Build the scatter plots for latitude vs. wind speed.\n",
    "plt.scatter(lats,\n",
    "            wind_speed,\n",
    "            edgecolor=\"black\", linewidths=1, marker=\"o\",\n",
    "            alpha=0.8, label=\"Cities\")\n",
    "\n",
    "# Incorporate the other graph properties.\n",
    "plt.title(f\"City Latitude vs. Wind Speed \"+ time.strftime(\"%x\"))\n",
    "plt.ylabel(\"Wind Speed (mph)\")\n",
    "plt.xlabel(\"Latitude\")\n",
    "plt.grid(True)\n",
    "# Save the figure.\n",
    "plt.savefig(\"weather_data/Fig4.png\")\n",
    "# Show plot.\n",
    "plt.show()"
   ]
  },
  {
   "cell_type": "code",
   "execution_count": null,
   "metadata": {},
   "outputs": [],
   "source": []
  }
 ],
 "metadata": {
  "kernelspec": {
   "display_name": "PythonData",
   "language": "python",
   "name": "pythondata"
  },
  "language_info": {
   "codemirror_mode": {
    "name": "ipython",
    "version": 3
   },
   "file_extension": ".py",
   "mimetype": "text/x-python",
   "name": "python",
   "nbconvert_exporter": "python",
   "pygments_lexer": "ipython3",
   "version": "3.6.10"
  }
 },
 "nbformat": 4,
 "nbformat_minor": 4
}
